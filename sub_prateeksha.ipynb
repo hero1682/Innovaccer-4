{
 "cells": [
  {
   "cell_type": "code",
   "execution_count": 1,
   "metadata": {
    "collapsed": false
   },
   "outputs": [],
   "source": [
    "import numpy as np\n",
    "import pandas as pd\n",
    "import os\n",
    "import stringdist\n",
    "import matplotlib.pyplot as plt"
   ]
  },
  {
   "cell_type": "code",
   "execution_count": 2,
   "metadata": {
    "collapsed": true
   },
   "outputs": [],
   "source": [
    "data = pd.read_csv('/home/prateeksha/Downloads/Deduplication Problem - Sample Dataset.csv')"
   ]
  },
  {
   "cell_type": "code",
   "execution_count": 3,
   "metadata": {
    "collapsed": false
   },
   "outputs": [
    {
     "data": {
      "text/html": [
       "<div>\n",
       "<style scoped>\n",
       "    .dataframe tbody tr th:only-of-type {\n",
       "        vertical-align: middle;\n",
       "    }\n",
       "\n",
       "    .dataframe tbody tr th {\n",
       "        vertical-align: top;\n",
       "    }\n",
       "\n",
       "    .dataframe thead th {\n",
       "        text-align: right;\n",
       "    }\n",
       "</style>\n",
       "<table border=\"1\" class=\"dataframe\">\n",
       "  <thead>\n",
       "    <tr style=\"text-align: right;\">\n",
       "      <th></th>\n",
       "      <th>ln</th>\n",
       "      <th>dob</th>\n",
       "      <th>gn</th>\n",
       "      <th>fn</th>\n",
       "    </tr>\n",
       "  </thead>\n",
       "  <tbody>\n",
       "    <tr>\n",
       "      <th>0</th>\n",
       "      <td>SMITH JR</td>\n",
       "      <td>01/03/68</td>\n",
       "      <td>F</td>\n",
       "      <td>WILLIAM</td>\n",
       "    </tr>\n",
       "    <tr>\n",
       "      <th>1</th>\n",
       "      <td>ROTHMEYER JR</td>\n",
       "      <td>01/03/68</td>\n",
       "      <td>F</td>\n",
       "      <td>WILLIAM</td>\n",
       "    </tr>\n",
       "    <tr>\n",
       "      <th>2</th>\n",
       "      <td>ASBY JR</td>\n",
       "      <td>01/03/68</td>\n",
       "      <td>F</td>\n",
       "      <td>WILLIAM</td>\n",
       "    </tr>\n",
       "    <tr>\n",
       "      <th>3</th>\n",
       "      <td>SALTER JR</td>\n",
       "      <td>01/03/68</td>\n",
       "      <td>F</td>\n",
       "      <td>WILLIAM</td>\n",
       "    </tr>\n",
       "    <tr>\n",
       "      <th>4</th>\n",
       "      <td>SALTER JR</td>\n",
       "      <td>01/03/68</td>\n",
       "      <td>F</td>\n",
       "      <td>WILLIAM</td>\n",
       "    </tr>\n",
       "  </tbody>\n",
       "</table>\n",
       "</div>"
      ],
      "text/plain": [
       "             ln       dob gn       fn\n",
       "0      SMITH JR  01/03/68  F  WILLIAM\n",
       "1  ROTHMEYER JR  01/03/68  F  WILLIAM\n",
       "2       ASBY JR  01/03/68  F  WILLIAM\n",
       "3     SALTER JR  01/03/68  F  WILLIAM\n",
       "4     SALTER JR  01/03/68  F  WILLIAM"
      ]
     },
     "execution_count": 3,
     "metadata": {},
     "output_type": "execute_result"
    }
   ],
   "source": [
    "data.head()"
   ]
  },
  {
   "cell_type": "code",
   "execution_count": 4,
   "metadata": {
    "collapsed": false
   },
   "outputs": [],
   "source": [
    "dummy = data.copy()\n",
    "\n",
    "dummy= dummy.shift(1)\n",
    "dummy.iloc[0]= dummy.iloc[len(data)-1]\n",
    "temp_data = pd.concat([data, dummy], axis=1)\n",
    "#print (temp_data)\n",
    "    \n",
    "for i in range(1, len(data)):\n",
    "    \n",
    "    dummy= dummy.shift(1)\n",
    "    dummy.iloc[0]= dummy.iloc[len(data)-1]\n",
    "    temp_da = pd.concat([data, dummy], axis=1)\n",
    "    #print (temp_da)\n",
    "    temp_data= pd.concat([temp_data, temp_da], axis=0)\n",
    "    \n",
    "temp_data.columns= ['ln', 'dob', 'gn', 'fn', 'LN', 'DOB', 'GN1', 'FN1']\n",
    "temp_data = temp_data.reset_index()"
   ]
  },
  {
   "cell_type": "code",
   "execution_count": 5,
   "metadata": {
    "collapsed": false
   },
   "outputs": [
    {
     "data": {
      "text/plain": [
       "10609"
      ]
     },
     "execution_count": 5,
     "metadata": {},
     "output_type": "execute_result"
    }
   ],
   "source": [
    "len(temp_data)"
   ]
  },
  {
   "cell_type": "code",
   "execution_count": 6,
   "metadata": {
    "collapsed": false
   },
   "outputs": [
    {
     "data": {
      "text/plain": [
       "5"
      ]
     },
     "execution_count": 6,
     "metadata": {},
     "output_type": "execute_result"
    }
   ],
   "source": [
    "stringdist.levenshtein('SALTER JR', 'ASBY JR')"
   ]
  },
  {
   "cell_type": "code",
   "execution_count": 7,
   "metadata": {
    "collapsed": false
   },
   "outputs": [],
   "source": [
    "temp_data['dob'] = pd.to_datetime(temp_data.dob)\n",
    "temp_data['DOB'] = pd.to_datetime(temp_data.DOB)"
   ]
  },
  {
   "cell_type": "code",
   "execution_count": 8,
   "metadata": {
    "collapsed": false
   },
   "outputs": [],
   "source": [
    "f1=[]\n",
    "f2=[]\n",
    "f3=[]\n",
    "f4=[]\n",
    "for i in range(len(temp_data)):\n",
    "        f1.append(stringdist.levenshtein(temp_data.ln[i],temp_data.LN[i]))\n",
    "        f3.append(stringdist.levenshtein(temp_data.gn[i],temp_data.GN1[i]))\n",
    "        f4.append(stringdist.levenshtein(temp_data.fn[i], temp_data.FN1[i]))\n",
    "        if (temp_data['dob'][i]==temp_data['DOB'][i]):\n",
    "            f2.append(0)\n",
    "        else: f2.append(1)\n",
    "        \n",
    "        "
   ]
  },
  {
   "cell_type": "code",
   "execution_count": 9,
   "metadata": {
    "collapsed": false
   },
   "outputs": [],
   "source": [
    "df = pd.DataFrame({'f1':f1, 'f2':f2, 'f3':f3, 'f4':f4})"
   ]
  },
  {
   "cell_type": "code",
   "execution_count": 10,
   "metadata": {
    "collapsed": false
   },
   "outputs": [],
   "source": [
    "new_data = pd.concat([temp_data, df], axis =1)"
   ]
  },
  {
   "cell_type": "code",
   "execution_count": 11,
   "metadata": {
    "collapsed": false
   },
   "outputs": [
    {
     "data": {
      "text/html": [
       "<div>\n",
       "<style scoped>\n",
       "    .dataframe tbody tr th:only-of-type {\n",
       "        vertical-align: middle;\n",
       "    }\n",
       "\n",
       "    .dataframe tbody tr th {\n",
       "        vertical-align: top;\n",
       "    }\n",
       "\n",
       "    .dataframe thead th {\n",
       "        text-align: right;\n",
       "    }\n",
       "</style>\n",
       "<table border=\"1\" class=\"dataframe\">\n",
       "  <thead>\n",
       "    <tr style=\"text-align: right;\">\n",
       "      <th></th>\n",
       "      <th>index</th>\n",
       "      <th>ln</th>\n",
       "      <th>dob</th>\n",
       "      <th>gn</th>\n",
       "      <th>fn</th>\n",
       "      <th>LN</th>\n",
       "      <th>DOB</th>\n",
       "      <th>GN1</th>\n",
       "      <th>FN1</th>\n",
       "      <th>f1</th>\n",
       "      <th>f2</th>\n",
       "      <th>f3</th>\n",
       "      <th>f4</th>\n",
       "    </tr>\n",
       "  </thead>\n",
       "  <tbody>\n",
       "    <tr>\n",
       "      <th>0</th>\n",
       "      <td>0</td>\n",
       "      <td>SMITH JR</td>\n",
       "      <td>1968-01-03</td>\n",
       "      <td>F</td>\n",
       "      <td>WILLIAM</td>\n",
       "      <td>FUNARO J</td>\n",
       "      <td>2037-06-12</td>\n",
       "      <td>F</td>\n",
       "      <td>HARRIET</td>\n",
       "      <td>7</td>\n",
       "      <td>1</td>\n",
       "      <td>0</td>\n",
       "      <td>6</td>\n",
       "    </tr>\n",
       "    <tr>\n",
       "      <th>1</th>\n",
       "      <td>1</td>\n",
       "      <td>ROTHMEYER JR</td>\n",
       "      <td>1968-01-03</td>\n",
       "      <td>F</td>\n",
       "      <td>WILLIAM</td>\n",
       "      <td>SMITH JR</td>\n",
       "      <td>1968-01-03</td>\n",
       "      <td>F</td>\n",
       "      <td>WILLIAM</td>\n",
       "      <td>8</td>\n",
       "      <td>0</td>\n",
       "      <td>0</td>\n",
       "      <td>0</td>\n",
       "    </tr>\n",
       "    <tr>\n",
       "      <th>2</th>\n",
       "      <td>2</td>\n",
       "      <td>ASBY JR</td>\n",
       "      <td>1968-01-03</td>\n",
       "      <td>F</td>\n",
       "      <td>WILLIAM</td>\n",
       "      <td>ROTHMEYER JR</td>\n",
       "      <td>1968-01-03</td>\n",
       "      <td>F</td>\n",
       "      <td>WILLIAM</td>\n",
       "      <td>8</td>\n",
       "      <td>0</td>\n",
       "      <td>0</td>\n",
       "      <td>0</td>\n",
       "    </tr>\n",
       "    <tr>\n",
       "      <th>3</th>\n",
       "      <td>3</td>\n",
       "      <td>SALTER JR</td>\n",
       "      <td>1968-01-03</td>\n",
       "      <td>F</td>\n",
       "      <td>WILLIAM</td>\n",
       "      <td>ASBY JR</td>\n",
       "      <td>1968-01-03</td>\n",
       "      <td>F</td>\n",
       "      <td>WILLIAM</td>\n",
       "      <td>5</td>\n",
       "      <td>0</td>\n",
       "      <td>0</td>\n",
       "      <td>0</td>\n",
       "    </tr>\n",
       "    <tr>\n",
       "      <th>4</th>\n",
       "      <td>4</td>\n",
       "      <td>SALTER JR</td>\n",
       "      <td>1968-01-03</td>\n",
       "      <td>F</td>\n",
       "      <td>WILLIAM</td>\n",
       "      <td>SALTER JR</td>\n",
       "      <td>1968-01-03</td>\n",
       "      <td>F</td>\n",
       "      <td>WILLIAM</td>\n",
       "      <td>0</td>\n",
       "      <td>0</td>\n",
       "      <td>0</td>\n",
       "      <td>0</td>\n",
       "    </tr>\n",
       "  </tbody>\n",
       "</table>\n",
       "</div>"
      ],
      "text/plain": [
       "   index            ln        dob gn       fn            LN        DOB GN1  \\\n",
       "0      0      SMITH JR 1968-01-03  F  WILLIAM      FUNARO J 2037-06-12   F   \n",
       "1      1  ROTHMEYER JR 1968-01-03  F  WILLIAM      SMITH JR 1968-01-03   F   \n",
       "2      2       ASBY JR 1968-01-03  F  WILLIAM  ROTHMEYER JR 1968-01-03   F   \n",
       "3      3     SALTER JR 1968-01-03  F  WILLIAM       ASBY JR 1968-01-03   F   \n",
       "4      4     SALTER JR 1968-01-03  F  WILLIAM     SALTER JR 1968-01-03   F   \n",
       "\n",
       "       FN1  f1  f2  f3  f4  \n",
       "0  HARRIET   7   1   0   6  \n",
       "1  WILLIAM   8   0   0   0  \n",
       "2  WILLIAM   8   0   0   0  \n",
       "3  WILLIAM   5   0   0   0  \n",
       "4  WILLIAM   0   0   0   0  "
      ]
     },
     "execution_count": 11,
     "metadata": {},
     "output_type": "execute_result"
    }
   ],
   "source": [
    "new_data.head()"
   ]
  },
  {
   "cell_type": "code",
   "execution_count": 12,
   "metadata": {
    "collapsed": true
   },
   "outputs": [],
   "source": [
    "from sklearn.cluster import KMeans"
   ]
  },
  {
   "cell_type": "code",
   "execution_count": 13,
   "metadata": {
    "collapsed": false
   },
   "outputs": [
    {
     "data": {
      "text/plain": [
       "KMeans(algorithm='auto', copy_x=True, init='k-means++', max_iter=300,\n",
       "    n_clusters=2, n_init=10, n_jobs=1, precompute_distances='auto',\n",
       "    random_state=None, tol=0.0001, verbose=0)"
      ]
     },
     "execution_count": 13,
     "metadata": {},
     "output_type": "execute_result"
    }
   ],
   "source": [
    "k_means = KMeans(n_clusters =2)\n",
    "k_means.fit(new_data[['f1','f2','f3','f4']])"
   ]
  },
  {
   "cell_type": "code",
   "execution_count": 14,
   "metadata": {
    "collapsed": false
   },
   "outputs": [],
   "source": [
    "r = k_means.predict(new_data[['f1','f2','f3','f4']])"
   ]
  },
  {
   "cell_type": "code",
   "execution_count": 15,
   "metadata": {
    "collapsed": false
   },
   "outputs": [
    {
     "data": {
      "image/png": "[encoded data removed]",
      "text/plain": [
       "<matplotlib.figure.Figure at 0x7f64459f0cd0>"
      ]
     },
     "metadata": {},
     "output_type": "display_data"
    }
   ],
   "source": [
    "plt.plot(r[:100])\n",
    "plt.show()"
   ]
  },
  {
   "cell_type": "code",
   "execution_count": 16,
   "metadata": {
    "collapsed": true
   },
   "outputs": [],
   "source": [
    "from sklearn.mixture import GaussianMixture"
   ]
  },
  {
   "cell_type": "code",
   "execution_count": 17,
   "metadata": {
    "collapsed": false
   },
   "outputs": [
    {
     "data": {
      "text/plain": [
       "GaussianMixture(covariance_type='full', init_params='kmeans', max_iter=100,\n",
       "        means_init=None, n_components=2, n_init=1, precisions_init=None,\n",
       "        random_state=None, reg_covar=1e-06, tol=0.001, verbose=0,\n",
       "        verbose_interval=10, warm_start=False, weights_init=None)"
      ]
     },
     "execution_count": 17,
     "metadata": {},
     "output_type": "execute_result"
    }
   ],
   "source": [
    "gmm = GaussianMixture(n_components =2)\n",
    "gmm.fit(new_data[['f1','f2','f3','f4']])"
   ]
  },
  {
   "cell_type": "code",
   "execution_count": 18,
   "metadata": {
    "collapsed": false
   },
   "outputs": [],
   "source": [
    "s= gmm.predict(new_data[['f1','f2','f3','f4']])"
   ]
  },
  {
   "cell_type": "code",
   "execution_count": 19,
   "metadata": {
    "collapsed": false
   },
   "outputs": [
    {
     "data": {
      "image/png": "[encoded data removed]",
      "text/plain": [
       "<matplotlib.figure.Figure at 0x7f642fa14d10>"
      ]
     },
     "metadata": {},
     "output_type": "display_data"
    }
   ],
   "source": [
    "plt.plot(s[:100])\n",
    "plt.show()"
   ]
  },
  {
   "cell_type": "code",
   "execution_count": 20,
   "metadata": {
    "collapsed": true
   },
   "outputs": [],
   "source": [
    "r1 = (r+s)/2"
   ]
  },
  {
   "cell_type": "code",
   "execution_count": 21,
   "metadata": {
    "collapsed": false,
    "scrolled": true
   },
   "outputs": [
    {
     "data": {
      "image/png": "[encoded data removed]",
      "text/plain": [
       "<matplotlib.figure.Figure at 0x7f642f9c7950>"
      ]
     },
     "metadata": {},
     "output_type": "display_data"
    }
   ],
   "source": [
    "plt.plot(r1[:100])\n",
    "plt.show()"
   ]
  },
  {
   "cell_type": "code",
   "execution_count": 22,
   "metadata": {
    "collapsed": true
   },
   "outputs": [],
   "source": [
    "data['dob'] = pd.to_datetime(data.dob)\n"
   ]
  },
  {
   "cell_type": "markdown",
   "metadata": {},
   "source": [
    "# building the dataframe without common names"
   ]
  },
  {
   "cell_type": "code",
   "execution_count": 62,
   "metadata": {
    "collapsed": false
   },
   "outputs": [],
   "source": [
    "y= pd.DataFrame()\n",
    "\n",
    "for i in range(len(data)):\n",
    "    s=0\n",
    "    for j in range(i+1, len(data)):\n",
    "        \n",
    "\n",
    "        F1= stringdist.levenshtein(data.ln[i],data.ln[j])\n",
    "        F3= stringdist.levenshtein(data.gn[i],data.gn[j])\n",
    "        F4 = stringdist.levenshtein(data.fn[i], data.fn[j])\n",
    "        if (data['dob'][i]==data['dob'][j]):\n",
    "            F2=0    \n",
    "        else: F2 = 1\n",
    "        x=pd.DataFrame([F1,F2,F3,F4]).T\n",
    "        r= gmm.predict(x)\n",
    "        s= s+r\n",
    "    if (s==1):\n",
    "        y=pd.concat([y,pd.DataFrame(data.iloc[i]).T])"
   ]
  },
  {
   "cell_type": "code",
   "execution_count": 65,
   "metadata": {
    "collapsed": false
   },
   "outputs": [
    {
     "data": {
      "text/html": [
       "<div>\n",
       "<style scoped>\n",
       "    .dataframe tbody tr th:only-of-type {\n",
       "        vertical-align: middle;\n",
       "    }\n",
       "\n",
       "    .dataframe tbody tr th {\n",
       "        vertical-align: top;\n",
       "    }\n",
       "\n",
       "    .dataframe thead th {\n",
       "        text-align: right;\n",
       "    }\n",
       "</style>\n",
       "<table border=\"1\" class=\"dataframe\">\n",
       "  <thead>\n",
       "    <tr style=\"text-align: right;\">\n",
       "      <th></th>\n",
       "      <th>ln</th>\n",
       "      <th>dob</th>\n",
       "      <th>gn</th>\n",
       "      <th>fn</th>\n",
       "    </tr>\n",
       "  </thead>\n",
       "  <tbody>\n",
       "    <tr>\n",
       "      <th>9</th>\n",
       "      <td>SHAFFER JR</td>\n",
       "      <td>2062-02-21 00:00:00</td>\n",
       "      <td>F</td>\n",
       "      <td>WILLIAM</td>\n",
       "    </tr>\n",
       "    <tr>\n",
       "      <th>84</th>\n",
       "      <td>FAGEN JR</td>\n",
       "      <td>2037-07-10 00:00:00</td>\n",
       "      <td>M</td>\n",
       "      <td>HAROLD</td>\n",
       "    </tr>\n",
       "    <tr>\n",
       "      <th>45</th>\n",
       "      <td>CLARK</td>\n",
       "      <td>2045-09-02 00:00:00</td>\n",
       "      <td>M</td>\n",
       "      <td>RONALD</td>\n",
       "    </tr>\n",
       "    <tr>\n",
       "      <th>63</th>\n",
       "      <td>LARSON JR</td>\n",
       "      <td>2039-09-06 00:00:00</td>\n",
       "      <td>M</td>\n",
       "      <td>HAROLD</td>\n",
       "    </tr>\n",
       "    <tr>\n",
       "      <th>78</th>\n",
       "      <td>CHAVAS JR</td>\n",
       "      <td>2037-07-10 00:00:00</td>\n",
       "      <td>M</td>\n",
       "      <td>HAROLD</td>\n",
       "    </tr>\n",
       "    <tr>\n",
       "      <th>43</th>\n",
       "      <td>CAIN JR</td>\n",
       "      <td>2046-01-20 00:00:00</td>\n",
       "      <td>M</td>\n",
       "      <td>JOHN</td>\n",
       "    </tr>\n",
       "    <tr>\n",
       "      <th>29</th>\n",
       "      <td>MICHAELSON JR</td>\n",
       "      <td>2048-06-17 00:00:00</td>\n",
       "      <td>M</td>\n",
       "      <td>ROY</td>\n",
       "    </tr>\n",
       "    <tr>\n",
       "      <th>74</th>\n",
       "      <td>MELVIN JR</td>\n",
       "      <td>2037-07-10 00:00:00</td>\n",
       "      <td>M</td>\n",
       "      <td>HAROLD</td>\n",
       "    </tr>\n",
       "    <tr>\n",
       "      <th>85</th>\n",
       "      <td>FAGEN JR</td>\n",
       "      <td>2037-07-10 00:00:00</td>\n",
       "      <td>M</td>\n",
       "      <td>HAROLD</td>\n",
       "    </tr>\n",
       "    <tr>\n",
       "      <th>76</th>\n",
       "      <td>CHAVAS JR</td>\n",
       "      <td>2037-07-10 00:00:00</td>\n",
       "      <td>M</td>\n",
       "      <td>HAROLD</td>\n",
       "    </tr>\n",
       "    <tr>\n",
       "      <th>81</th>\n",
       "      <td>SMITH JR</td>\n",
       "      <td>2037-07-10 00:00:00</td>\n",
       "      <td>M</td>\n",
       "      <td>HAROLD</td>\n",
       "    </tr>\n",
       "    <tr>\n",
       "      <th>21</th>\n",
       "      <td>CARLSON JR</td>\n",
       "      <td>2053-10-25 00:00:00</td>\n",
       "      <td>F</td>\n",
       "      <td>RON</td>\n",
       "    </tr>\n",
       "    <tr>\n",
       "      <th>33</th>\n",
       "      <td>MUSTAPHA JR</td>\n",
       "      <td>2047-11-03 00:00:00</td>\n",
       "      <td>M</td>\n",
       "      <td>OWEN</td>\n",
       "    </tr>\n",
       "    <tr>\n",
       "      <th>79</th>\n",
       "      <td>MICHAELSON JR</td>\n",
       "      <td>2037-07-10 00:00:00</td>\n",
       "      <td>M</td>\n",
       "      <td>HAROLD</td>\n",
       "    </tr>\n",
       "    <tr>\n",
       "      <th>47</th>\n",
       "      <td>CLARK</td>\n",
       "      <td>2044-12-16 00:00:00</td>\n",
       "      <td>M</td>\n",
       "      <td>JOHN</td>\n",
       "    </tr>\n",
       "    <tr>\n",
       "      <th>52</th>\n",
       "      <td>MICHAELSON JR</td>\n",
       "      <td>2044-12-16 00:00:00</td>\n",
       "      <td>M</td>\n",
       "      <td>JOHN</td>\n",
       "    </tr>\n",
       "    <tr>\n",
       "      <th>24</th>\n",
       "      <td>MICHAELSON JR</td>\n",
       "      <td>2053-10-25 00:00:00</td>\n",
       "      <td>M</td>\n",
       "      <td>ROY</td>\n",
       "    </tr>\n",
       "    <tr>\n",
       "      <th>73</th>\n",
       "      <td>MELVIN JR</td>\n",
       "      <td>2037-07-10 00:00:00</td>\n",
       "      <td>M</td>\n",
       "      <td>HAROLD</td>\n",
       "    </tr>\n",
       "  </tbody>\n",
       "</table>\n",
       "</div>"
      ],
      "text/plain": [
       "               ln                  dob gn       fn\n",
       "9      SHAFFER JR  2062-02-21 00:00:00  F  WILLIAM\n",
       "84       FAGEN JR  2037-07-10 00:00:00  M   HAROLD\n",
       "45          CLARK  2045-09-02 00:00:00  M   RONALD\n",
       "63      LARSON JR  2039-09-06 00:00:00  M   HAROLD\n",
       "78      CHAVAS JR  2037-07-10 00:00:00  M   HAROLD\n",
       "43        CAIN JR  2046-01-20 00:00:00  M     JOHN\n",
       "29  MICHAELSON JR  2048-06-17 00:00:00  M      ROY\n",
       "74      MELVIN JR  2037-07-10 00:00:00  M   HAROLD\n",
       "85       FAGEN JR  2037-07-10 00:00:00  M   HAROLD\n",
       "76      CHAVAS JR  2037-07-10 00:00:00  M   HAROLD\n",
       "81       SMITH JR  2037-07-10 00:00:00  M   HAROLD\n",
       "21     CARLSON JR  2053-10-25 00:00:00  F      RON\n",
       "33    MUSTAPHA JR  2047-11-03 00:00:00  M     OWEN\n",
       "79  MICHAELSON JR  2037-07-10 00:00:00  M   HAROLD\n",
       "47          CLARK  2044-12-16 00:00:00  M     JOHN\n",
       "52  MICHAELSON JR  2044-12-16 00:00:00  M     JOHN\n",
       "24  MICHAELSON JR  2053-10-25 00:00:00  M      ROY\n",
       "73      MELVIN JR  2037-07-10 00:00:00  M   HAROLD"
      ]
     },
     "execution_count": 65,
     "metadata": {},
     "output_type": "execute_result"
    }
   ],
   "source": [
    "y"
   ]
  },
  {
   "cell_type": "code",
   "execution_count": 66,
   "metadata": {
    "collapsed": true
   },
   "outputs": [],
   "source": [
    "y.to_csv('result.csv')"
   ]
  }
 ],
 "metadata": {
  "anaconda-cloud": {},
  "kernelspec": {
   "display_name": "Python [conda root]",
   "language": "python",
   "name": "conda-root-py"
  },
  "language_info": {
   "codemirror_mode": {
    "name": "ipython",
    "version": 2
   },
   "file_extension": ".py",
   "mimetype": "text/x-python",
   "name": "python",
   "nbconvert_exporter": "python",
   "pygments_lexer": "ipython2",
   "version": "2.7.13"
  }
 },
 "nbformat": 4,
 "nbformat_minor": 2
}
